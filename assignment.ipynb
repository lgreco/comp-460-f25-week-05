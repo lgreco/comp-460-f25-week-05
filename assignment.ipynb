{
 "cells": [
  {
   "cell_type": "markdown",
   "id": "e7e50023",
   "metadata": {},
   "source": [
    "# Implementing a Multilayer Perceptron\n"
   ]
  },
  {
   "cell_type": "markdown",
   "id": "938786b2",
   "metadata": {},
   "source": [
    "## The sigmoid function\n",
    "\n",
    "The sigmoid function\n",
    "$$\n",
    "\\sigma(z) = \\frac{1}{1+e^{-z}}\n",
    "$$ \n",
    "is a smoother function that has similar behavior to the step function. For large values of $z$, $\\sigma(z) \\rightarrow 1$ (and for small values of $z$, $\\sigma(z) \\rightarrow 0$). For any value inbetween, $\\sigma(z)$ has a smoother behavior that the step function and, more importantly, can be differentiated:\n",
    "$$\n",
    "\\begin{align*}\n",
    "\\frac{d}{dz}\\sigma(z) = \\sigma(z)\\left(1-\\sigma(z)\\right)\n",
    "\\end{align*}\n",
    "$$\n",
    "\n",
    "The derivative above is obtained with the chain rule for $\\sigma(z) = f(u(z))$ where $u(z) = 1+e^{-z}$ and $f(u) = u^{-1}$:\n",
    "\n",
    "$$\n",
    "\\begin{align*}\n",
    "\\frac{d}{dz}\\sigma(z) & = \\frac{d}{dz} f(u(z)) \\\\\n",
    "   & = \\frac{df}{du}\\frac{du}{dz} \\\\\n",
    "\\end{align*}\n",
    "$$\n",
    "with $df/du = -u^{-2}$ and $du/dz = -e^{z}$, so that\n",
    "\n",
    "$$\n",
    "\\begin{align*}\n",
    "  \\frac{df}{du}\\frac{du}{dz} & = (-(1+e^{-z}))^{-2} (-e^{-z}) \\\\\n",
    "                             & = \\frac{e^{-z}}{(1+e^{-z})^{-2}} \\\\\n",
    "                             & = \\left(\\frac{1}{1+e^{-z}}\\right) \\left(\\frac{e^{-z}}{1+e^{-z}}\\right) \\\\\n",
    "                             &  = \\left(\\frac{1}{1+e^{-z}}\\right)   \\left(\\frac{1+e^{-z}-1}{1+e^{-z}}\\right) \\\\\n",
    "                            &  = \\left(\\frac{1}{1+e^{-z}}\\right)   \\left(\\frac{1+e^{-z}}{1+e^{-z}}-\\frac{1}{1+e^{-z}}\\right) \\\\\n",
    "                            & =  \\left(\\frac{1}{1+e^{-z}}\\right)   \\left(1-\\frac{1}{1+e^{-z}}\\right) \\\\ \n",
    "                            & = \\sigma(z)(1-\\sigma(z))\n",
    "\\end{align*}\n",
    "$$"
   ]
  },
  {
   "cell_type": "code",
   "execution_count": null,
   "id": "4bd4dce1",
   "metadata": {},
   "outputs": [],
   "source": [
    "import math\n",
    "\n",
    "def sigmoid(z:float) -> float:\n",
    "    return 1 / (1 + math.exp(-z))\n",
    "\n",
    "def sigmoid_derivative(z:float) -> float:\n",
    "    s = sigmoid(z)\n",
    "    return s * (1 - s)"
   ]
  },
  {
   "cell_type": "markdown",
   "id": "630dca2e",
   "metadata": {},
   "source": [
    "![](/workspaces/comp-460-f25-week-05/images/XOR.png)"
   ]
  },
  {
   "cell_type": "markdown",
   "id": "d22ce30c",
   "metadata": {},
   "source": [
    "$$\n",
    "\\begin{align*}\n",
    "  a^2_1 & = w^2_{11} x_1 + w^2_{12} x_2 + b^2_1 = \\begin{bmatrix} w^2_{11} & w^2_{12}\\end{bmatrix} \\cdot \\begin{bmatrix}x_1 \\\\ x_2\\end{bmatrix} + b^2_1 = \\mathbf w^2_1\\cdot\\mathbf x + b^2_1\\\\\n",
    "  a^2_2 & = w^2_{21} x_1 + w^2_{22} x_2 + b^2_2  = \\begin{bmatrix} w^2_{21} & w^2_{22}\\end{bmatrix} \\cdot \\begin{bmatrix}x_1 \\\\ x_2\\end{bmatrix} + b^2_2 = \\mathbf w^2_2\\cdot\\mathbf x + b^2_2\n",
    "\\end{align*}\n",
    "$$\n",
    "\n",
    "$$\n",
    "\\begin{align*}\n",
    "  \n",
    "  \\begin{bmatrix}a^2_1 \\\\ a^2_2 \\end{bmatrix} & =\n",
    "  \\begin{bmatrix}\\mathbf w^2_1 \\\\ \\mathbf w^2_2 \\end{bmatrix} \\cdot\\mathbf x + \\begin{bmatrix}b^2_1 \\\\ b^2_2 \\end{bmatrix} \\Rightarrow \\\\\n",
    "  \\mathbf a^2 & = \\mathbf w^2 \\cdot \\mathbf x + \\mathbf b^2\n",
    "\\end{align*}\n",
    "$$"
   ]
  },
  {
   "cell_type": "markdown",
   "id": "90df8129",
   "metadata": {},
   "source": [
    "# Your assignment\n",
    "\n",
    "\n",
    "\n",
    "# Reading\n",
    "\n",
    "* **PDF:** [An algorithm for the machine calculation of complex Fourier series](https://www.ams.org/mcom/1965-19-090/S0025-5718-1965-0178586-1/S0025-5718-1965-0178586-1.pdf): the original paper on FFT by Cooley and Tukey.\n",
    "\n",
    "* **PDF:** [The Design and Implementation of FFTW3](http://fftw.org/fftw-paper-ieee.pdf) discusses why faster algorithms some times slow down a bit.\n",
    "\n",
    "* **PDF:** [FFT material](https://jeffe.cs.illinois.edu/teaching/algorithms/notes/A-fft.pdf) from Jeff Erickson's book. As much as I like Jeff's book, I think this chapter is a bit dense or scattered. With patience, you may find good information but it's not an easy read."
   ]
  }
 ],
 "metadata": {
  "kernelspec": {
   "display_name": "Python 3",
   "language": "python",
   "name": "python3"
  },
  "language_info": {
   "codemirror_mode": {
    "name": "ipython",
    "version": 3
   },
   "file_extension": ".py",
   "mimetype": "text/x-python",
   "name": "python",
   "nbconvert_exporter": "python",
   "pygments_lexer": "ipython3",
   "version": "3.12.1"
  }
 },
 "nbformat": 4,
 "nbformat_minor": 5
}
